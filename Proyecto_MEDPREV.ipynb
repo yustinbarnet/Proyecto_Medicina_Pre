{
 "cells": [
  {
   "cell_type": "markdown",
   "id": "ebceeddf",
   "metadata": {},
   "source": [
    "Inicialización del proyecto"
   ]
  },
  {
   "cell_type": "code",
   "execution_count": 1,
   "id": "d786dbe6",
   "metadata": {},
   "outputs": [],
   "source": [
    "#importación de las librerías necesarias\n",
    "import pandas as pd \n",
    "import numpy as np \n",
    "import matplotlib.pyplot as plt\n",
    "import seaborn as sns\n",
    "import plotly.express as px\n",
    "import plotly.graph_objects as go"
   ]
  },
  {
   "cell_type": "code",
   "execution_count": 2,
   "id": "f11681ac",
   "metadata": {},
   "outputs": [
    {
     "name": "stdout",
     "output_type": "stream",
     "text": [
      "   EDAD                         PLAN_BENEFICIOS  \\\n",
      "0    49                  PACIENTES PARTICULARES   \n",
      "1    49                  PACIENTES PARTICULARES   \n",
      "2    68  CAPITAL SALUD EPS SAS - PGP SUBSIDIADO   \n",
      "3    82  CAPITAL SALUD EPS SAS - PGP SUBSIDIADO   \n",
      "4    59  CAPITAL SALUD EPS SAS - PGP SUBSIDIADO   \n",
      "\n",
      "                                    SEDE                       NOMBRE_DIAG  \\\n",
      "0  CENTRO DE SALUD TIPO II SAN CRISTÓBAL  HIPERTENSION ESENCIAL (PRIMARIA)   \n",
      "1  CENTRO DE SALUD TIPO II SAN CRISTÓBAL  HIPERTENSION ESENCIAL (PRIMARIA)   \n",
      "2  CENTRO DE SALUD TIPO II SAN CRISTÓBAL  HIPERTENSION ESENCIAL (PRIMARIA)   \n",
      "3  CENTRO DE SALUD TIPO II SAN CRISTÓBAL  HIPERTENSION ESENCIAL (PRIMARIA)   \n",
      "4  CENTRO DE SALUD TIPO II SAN CRISTÓBAL  HIPERTENSION ESENCIAL (PRIMARIA)   \n",
      "\n",
      "   PESO  TALLA    IMC CARDIOVASCULAR PULMONAR NEUROLÓGICO  ... covid1 covid2  \\\n",
      "0  76.0    157  30.83         Normal   Normal      Normal  ...     Si     Si   \n",
      "1  76.0    157  30.83         Normal   Normal      Normal  ...     Si     Si   \n",
      "2  70.0    151  30.70         Normal   Normal      Normal  ...     Si     Si   \n",
      "3  51.0    142  25.29         Normal   Normal      Normal  ...     Si     Si   \n",
      "4  84.0    150  37.33         Normal   Normal      Normal  ...     Si     Si   \n",
      "\n",
      "  covid3    GENERO   IDENTGEN       ORIGSEX               GRUPO ETNICO  \\\n",
      "0     No  Femenino  Cisgénero  Heterosexual  Ninguna de las anteriores   \n",
      "1     No  Femenino  Cisgénero  Heterosexual  Ninguna de las anteriores   \n",
      "2     No  Femenino  Cisgénero  Heterosexual  Ninguna de las anteriores   \n",
      "3     No  Femenino  Cisgénero  Heterosexual  Ninguna de las anteriores   \n",
      "4     No  Femenino  Cisgénero  Heterosexual  Ninguna de las anteriores   \n",
      "\n",
      "        NIVELEDUCATIVO   TIPODISCAPAC    OCUPACION  \n",
      "0  14. Sin Informacion    No Presenta     COCINERA  \n",
      "1  14. Sin Informacion    No Presenta     COCINERA  \n",
      "2  14. Sin Informacion    No Presenta        HOGAR  \n",
      "3  14. Sin Informacion  Motora-física  AMA DE CASA  \n",
      "4  14. Sin Informacion    No Presenta    CONDUCTOR  \n",
      "\n",
      "[5 rows x 29 columns]\n"
     ]
    }
   ],
   "source": [
    "#Cargar la base de datos\n",
    "df = pd.read_csv('Enfermedades_Cr_nicas_20250409.csv')\n",
    "print(df.head())"
   ]
  },
  {
   "cell_type": "code",
   "execution_count": 3,
   "id": "462adb1e",
   "metadata": {},
   "outputs": [
    {
     "data": {
      "text/plain": [
       "(2602, 29)"
      ]
     },
     "execution_count": 3,
     "metadata": {},
     "output_type": "execute_result"
    }
   ],
   "source": [
    "df.shape"
   ]
  },
  {
   "cell_type": "code",
   "execution_count": 4,
   "id": "ae06334e",
   "metadata": {},
   "outputs": [
    {
     "data": {
      "text/html": [
       "<div>\n",
       "<style scoped>\n",
       "    .dataframe tbody tr th:only-of-type {\n",
       "        vertical-align: middle;\n",
       "    }\n",
       "\n",
       "    .dataframe tbody tr th {\n",
       "        vertical-align: top;\n",
       "    }\n",
       "\n",
       "    .dataframe thead th {\n",
       "        text-align: right;\n",
       "    }\n",
       "</style>\n",
       "<table border=\"1\" class=\"dataframe\">\n",
       "  <thead>\n",
       "    <tr style=\"text-align: right;\">\n",
       "      <th></th>\n",
       "      <th>EDAD</th>\n",
       "      <th>PESO</th>\n",
       "      <th>TALLA</th>\n",
       "    </tr>\n",
       "  </thead>\n",
       "  <tbody>\n",
       "    <tr>\n",
       "      <th>count</th>\n",
       "      <td>2602.000000</td>\n",
       "      <td>2602.000000</td>\n",
       "      <td>2602.000000</td>\n",
       "    </tr>\n",
       "    <tr>\n",
       "      <th>mean</th>\n",
       "      <td>68.269792</td>\n",
       "      <td>64.020292</td>\n",
       "      <td>150.530746</td>\n",
       "    </tr>\n",
       "    <tr>\n",
       "      <th>std</th>\n",
       "      <td>13.076867</td>\n",
       "      <td>17.943791</td>\n",
       "      <td>30.022547</td>\n",
       "    </tr>\n",
       "    <tr>\n",
       "      <th>min</th>\n",
       "      <td>6.000000</td>\n",
       "      <td>0.000000</td>\n",
       "      <td>0.000000</td>\n",
       "    </tr>\n",
       "    <tr>\n",
       "      <th>25%</th>\n",
       "      <td>61.000000</td>\n",
       "      <td>55.000000</td>\n",
       "      <td>149.000000</td>\n",
       "    </tr>\n",
       "    <tr>\n",
       "      <th>50%</th>\n",
       "      <td>69.000000</td>\n",
       "      <td>64.000000</td>\n",
       "      <td>155.000000</td>\n",
       "    </tr>\n",
       "    <tr>\n",
       "      <th>75%</th>\n",
       "      <td>77.000000</td>\n",
       "      <td>74.000000</td>\n",
       "      <td>161.000000</td>\n",
       "    </tr>\n",
       "    <tr>\n",
       "      <th>max</th>\n",
       "      <td>102.000000</td>\n",
       "      <td>175.000000</td>\n",
       "      <td>300.000000</td>\n",
       "    </tr>\n",
       "  </tbody>\n",
       "</table>\n",
       "</div>"
      ],
      "text/plain": [
       "              EDAD         PESO        TALLA\n",
       "count  2602.000000  2602.000000  2602.000000\n",
       "mean     68.269792    64.020292   150.530746\n",
       "std      13.076867    17.943791    30.022547\n",
       "min       6.000000     0.000000     0.000000\n",
       "25%      61.000000    55.000000   149.000000\n",
       "50%      69.000000    64.000000   155.000000\n",
       "75%      77.000000    74.000000   161.000000\n",
       "max     102.000000   175.000000   300.000000"
      ]
     },
     "execution_count": 4,
     "metadata": {},
     "output_type": "execute_result"
    }
   ],
   "source": [
    "df.describe()"
   ]
  },
  {
   "cell_type": "code",
   "execution_count": 5,
   "id": "f77d7471",
   "metadata": {},
   "outputs": [
    {
     "data": {
      "text/plain": [
       "['EDAD',\n",
       " 'PLAN_BENEFICIOS',\n",
       " 'SEDE',\n",
       " 'NOMBRE_DIAG',\n",
       " 'PESO',\n",
       " 'TALLA',\n",
       " 'IMC',\n",
       " 'CARDIOVASCULAR',\n",
       " 'PULMONAR',\n",
       " 'NEUROLÓGICO',\n",
       " 'MENTAL',\n",
       " 'OSTEOMUSCULAR',\n",
       " 'BODEX',\n",
       " 'RESULTADOIMC',\n",
       " 'ESCALA DISNEA',\n",
       " 'RIESGO CARDIOVASCULAR',\n",
       " 'EPOCCONFIRMADO',\n",
       " 'CLASIFISUI',\n",
       " 'DISCAPACIDAD',\n",
       " 'covid1',\n",
       " 'covid2',\n",
       " 'covid3',\n",
       " 'GENERO',\n",
       " 'IDENTGEN',\n",
       " 'ORIGSEX',\n",
       " 'GRUPO ETNICO',\n",
       " 'NIVELEDUCATIVO',\n",
       " 'TIPODISCAPAC',\n",
       " 'OCUPACION']"
      ]
     },
     "execution_count": 5,
     "metadata": {},
     "output_type": "execute_result"
    }
   ],
   "source": [
    "df.columns.to_list()"
   ]
  },
  {
   "cell_type": "code",
   "execution_count": 6,
   "id": "b74fcd00",
   "metadata": {},
   "outputs": [
    {
     "data": {
      "text/plain": [
       "EDAD                     0\n",
       "PLAN_BENEFICIOS          0\n",
       "SEDE                     0\n",
       "NOMBRE_DIAG              0\n",
       "PESO                     0\n",
       "TALLA                    0\n",
       "IMC                      0\n",
       "CARDIOVASCULAR           0\n",
       "PULMONAR                 0\n",
       "NEUROLÓGICO              0\n",
       "MENTAL                   0\n",
       "OSTEOMUSCULAR            0\n",
       "BODEX                    0\n",
       "RESULTADOIMC             0\n",
       "ESCALA DISNEA            0\n",
       "RIESGO CARDIOVASCULAR    0\n",
       "EPOCCONFIRMADO           0\n",
       "CLASIFISUI               0\n",
       "DISCAPACIDAD             0\n",
       "covid1                   0\n",
       "covid2                   0\n",
       "covid3                   0\n",
       "GENERO                   0\n",
       "IDENTGEN                 0\n",
       "ORIGSEX                  0\n",
       "GRUPO ETNICO             0\n",
       "NIVELEDUCATIVO           0\n",
       "TIPODISCAPAC             0\n",
       "OCUPACION                0\n",
       "dtype: int64"
      ]
     },
     "execution_count": 6,
     "metadata": {},
     "output_type": "execute_result"
    }
   ],
   "source": [
    "#valores nulos\n",
    "df.isnull().sum()"
   ]
  },
  {
   "cell_type": "code",
   "execution_count": 7,
   "id": "7adb226a",
   "metadata": {},
   "outputs": [
    {
     "data": {
      "text/plain": [
       "EDAD                      80\n",
       "PLAN_BENEFICIOS            8\n",
       "SEDE                      14\n",
       "NOMBRE_DIAG              189\n",
       "PESO                     214\n",
       "TALLA                     66\n",
       "IMC                      700\n",
       "CARDIOVASCULAR             3\n",
       "PULMONAR                   3\n",
       "NEUROLÓGICO                3\n",
       "MENTAL                     3\n",
       "OSTEOMUSCULAR              3\n",
       "BODEX                      1\n",
       "RESULTADOIMC              10\n",
       "ESCALA DISNEA              3\n",
       "RIESGO CARDIOVASCULAR      1\n",
       "EPOCCONFIRMADO             1\n",
       "CLASIFISUI                 3\n",
       "DISCAPACIDAD               2\n",
       "covid1                     2\n",
       "covid2                     2\n",
       "covid3                     2\n",
       "GENERO                     3\n",
       "IDENTGEN                   3\n",
       "ORIGSEX                    4\n",
       "GRUPO ETNICO               5\n",
       "NIVELEDUCATIVO            13\n",
       "TIPODISCAPAC               8\n",
       "OCUPACION                 87\n",
       "dtype: int64"
      ]
     },
     "execution_count": 7,
     "metadata": {},
     "output_type": "execute_result"
    }
   ],
   "source": [
    "#valores duplicados\n",
    "df.nunique()"
   ]
  },
  {
   "cell_type": "code",
   "execution_count": 8,
   "id": "99f99e0a",
   "metadata": {},
   "outputs": [
    {
     "name": "stdout",
     "output_type": "stream",
     "text": [
      "      EDAD RIESGO CARDIOVASCULAR    IMC CARDIOVASCULAR    GENERO  PESO  \\\n",
      "0       49           RIESGO BAJO  30.83         Normal  Femenino  76.0   \n",
      "1       49           RIESGO BAJO  30.83         Normal  Femenino  76.0   \n",
      "2       68           RIESGO BAJO  30.70         Normal  Femenino  70.0   \n",
      "3       82           RIESGO BAJO  25.29         Normal  Femenino  51.0   \n",
      "4       59           RIESGO BAJO  37.33         Normal  Femenino  84.0   \n",
      "...    ...                   ...    ...            ...       ...   ...   \n",
      "2597    79           RIESGO BAJO  21.87         Normal  Femenino  61.0   \n",
      "2598    79           RIESGO BAJO  21.87         Normal  Femenino  61.0   \n",
      "2599    54           RIESGO BAJO  21.37         Normal  Femenino  52.0   \n",
      "2600    54           RIESGO BAJO  21.37         Normal  Femenino  52.0   \n",
      "2601    54           RIESGO BAJO  21.37         Normal  Femenino  52.0   \n",
      "\n",
      "         BODEX  \n",
      "0     MODERADA  \n",
      "1     MODERADA  \n",
      "2     MODERADA  \n",
      "3     MODERADA  \n",
      "4     MODERADA  \n",
      "...        ...  \n",
      "2597  MODERADA  \n",
      "2598  MODERADA  \n",
      "2599  MODERADA  \n",
      "2600  MODERADA  \n",
      "2601  MODERADA  \n",
      "\n",
      "[2602 rows x 7 columns]\n"
     ]
    }
   ],
   "source": [
    "#creación del dataframe con las columnas necesarias\n",
    "columns = ['EDAD','RIESGO CARDIOVASCULAR','IMC','CARDIOVASCULAR','GENERO','PESO','BODEX']\n",
    "df_columns = df[columns]\n",
    "\n",
    "print(df_columns)"
   ]
  }
 ],
 "metadata": {
  "kernelspec": {
   "display_name": "venv2",
   "language": "python",
   "name": "python3"
  },
  "language_info": {
   "codemirror_mode": {
    "name": "ipython",
    "version": 3
   },
   "file_extension": ".py",
   "mimetype": "text/x-python",
   "name": "python",
   "nbconvert_exporter": "python",
   "pygments_lexer": "ipython3",
   "version": "3.13.2"
  }
 },
 "nbformat": 4,
 "nbformat_minor": 5
}
